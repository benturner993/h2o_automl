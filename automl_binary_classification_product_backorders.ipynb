{
 "cells": [
  {
   "cell_type": "markdown",
   "metadata": {},
   "source": [
    "# H2O AutoML Binary Classification Demo\n",
    "\n",
    "This is a [Jupyter](https://jupyter.org/) Notebook. When you execute code within the notebook, the results appear beneath the code. To execute a code chunk, place your cursor on the cell and press *Shift+Enter*. \n",
    "\n",
    "### Start H2O\n",
    "\n",
    "Import the **h2o** Python module and `H2OAutoML` class and initialize a local H2O cluster."
   ]
  },
  {
   "cell_type": "code",
   "execution_count": 1,
   "metadata": {},
   "outputs": [
    {
     "name": "stdout",
     "output_type": "stream",
     "text": [
      "Checking whether there is an H2O instance running at http://localhost:54321 ..... not found.\n",
      "Attempting to start a local H2O server...\n",
      "  Java Version: java version \"10.0.1\" 2018-04-17; Java(TM) SE Runtime Environment 18.3 (build 10.0.1+10); Java HotSpot(TM) 64-Bit Server VM 18.3 (build 10.0.1+10, mixed mode)\n",
      "  Starting server from /Library/Frameworks/Python.framework/Versions/3.7/lib/python3.7/site-packages/h2o/backend/bin/h2o.jar\n",
      "  Ice root: /var/folders/6n/yq0g9lzs1wggh65827j8109m0000gn/T/tmpk230wttb\n",
      "  JVM stdout: /var/folders/6n/yq0g9lzs1wggh65827j8109m0000gn/T/tmpk230wttb/h2o_Ben_started_from_python.out\n",
      "  JVM stderr: /var/folders/6n/yq0g9lzs1wggh65827j8109m0000gn/T/tmpk230wttb/h2o_Ben_started_from_python.err\n",
      "  Server is running at http://127.0.0.1:54321\n",
      "Connecting to H2O server at http://127.0.0.1:54321 ... successful.\n",
      "Warning: Your H2O cluster version is too old (7 months and 29 days)! Please download and install the latest version from http://h2o.ai/download/\n"
     ]
    },
    {
     "data": {
      "text/html": [
       "<div style=\"overflow:auto\"><table style=\"width:50%\"><tr><td>H2O_cluster_uptime:</td>\n",
       "<td>03 secs</td></tr>\n",
       "<tr><td>H2O_cluster_timezone:</td>\n",
       "<td>Europe/London</td></tr>\n",
       "<tr><td>H2O_data_parsing_timezone:</td>\n",
       "<td>UTC</td></tr>\n",
       "<tr><td>H2O_cluster_version:</td>\n",
       "<td>3.32.0.2</td></tr>\n",
       "<tr><td>H2O_cluster_version_age:</td>\n",
       "<td>7 months and 29 days !!!</td></tr>\n",
       "<tr><td>H2O_cluster_name:</td>\n",
       "<td>H2O_from_python_Ben_fm7gkb</td></tr>\n",
       "<tr><td>H2O_cluster_total_nodes:</td>\n",
       "<td>1</td></tr>\n",
       "<tr><td>H2O_cluster_free_memory:</td>\n",
       "<td>2 Gb</td></tr>\n",
       "<tr><td>H2O_cluster_total_cores:</td>\n",
       "<td>4</td></tr>\n",
       "<tr><td>H2O_cluster_allowed_cores:</td>\n",
       "<td>4</td></tr>\n",
       "<tr><td>H2O_cluster_status:</td>\n",
       "<td>accepting new members, healthy</td></tr>\n",
       "<tr><td>H2O_connection_url:</td>\n",
       "<td>http://127.0.0.1:54321</td></tr>\n",
       "<tr><td>H2O_connection_proxy:</td>\n",
       "<td>{\"http\": null, \"https\": null}</td></tr>\n",
       "<tr><td>H2O_internal_security:</td>\n",
       "<td>False</td></tr>\n",
       "<tr><td>H2O_API_Extensions:</td>\n",
       "<td>Amazon S3, XGBoost, Algos, AutoML, Core V3, TargetEncoder, Core V4</td></tr>\n",
       "<tr><td>Python_version:</td>\n",
       "<td>3.7.0 final</td></tr></table></div>"
      ],
      "text/plain": [
       "--------------------------  ------------------------------------------------------------------\n",
       "H2O_cluster_uptime:         03 secs\n",
       "H2O_cluster_timezone:       Europe/London\n",
       "H2O_data_parsing_timezone:  UTC\n",
       "H2O_cluster_version:        3.32.0.2\n",
       "H2O_cluster_version_age:    7 months and 29 days !!!\n",
       "H2O_cluster_name:           H2O_from_python_Ben_fm7gkb\n",
       "H2O_cluster_total_nodes:    1\n",
       "H2O_cluster_free_memory:    2 Gb\n",
       "H2O_cluster_total_cores:    4\n",
       "H2O_cluster_allowed_cores:  4\n",
       "H2O_cluster_status:         accepting new members, healthy\n",
       "H2O_connection_url:         http://127.0.0.1:54321\n",
       "H2O_connection_proxy:       {\"http\": null, \"https\": null}\n",
       "H2O_internal_security:      False\n",
       "H2O_API_Extensions:         Amazon S3, XGBoost, Algos, AutoML, Core V3, TargetEncoder, Core V4\n",
       "Python_version:             3.7.0 final\n",
       "--------------------------  ------------------------------------------------------------------"
      ]
     },
     "metadata": {},
     "output_type": "display_data"
    }
   ],
   "source": [
    "import h2o\n",
    "from h2o.automl import H2OAutoML\n",
    "h2o.init()"
   ]
  },
  {
   "cell_type": "markdown",
   "metadata": {},
   "source": [
    "### Load Data\n",
    "\n",
    "For the AutoML binary classification demo, we use a subset of the [Product Backorders](https://www.kaggle.com/tiredgeek/predict-bo-trial/data) dataset.  The goal here is to predict whether or not a product will be put on backorder status, given a number of product metrics such as current inventory, transit time, demand forecasts and prior sales."
   ]
  },
  {
   "cell_type": "code",
   "execution_count": 2,
   "metadata": {},
   "outputs": [
    {
     "name": "stdout",
     "output_type": "stream",
     "text": [
      "Parse progress: |█████████████████████████████████████████████████████████| 100%\n"
     ]
    }
   ],
   "source": [
    "# Use local data file or download from GitHub\n",
    "import os\n",
    "docker_data_path = \"/home/h2o/data/automl/product_backorders.csv\"\n",
    "if os.path.isfile(docker_data_path):\n",
    "  data_path = docker_data_path\n",
    "else:\n",
    "  data_path = \"https://github.com/h2oai/h2o-tutorials/raw/master/h2o-world-2017/automl/data/product_backorders.csv\"\n",
    "\n",
    "\n",
    "# Load data into H2O\n",
    "df = h2o.import_file(data_path)"
   ]
  },
  {
   "cell_type": "markdown",
   "metadata": {},
   "source": [
    "For classification, the response should be encoded as categorical (aka. \"factor\" or \"enum\"). Let's take a look."
   ]
  },
  {
   "cell_type": "code",
   "execution_count": 3,
   "metadata": {},
   "outputs": [
    {
     "name": "stdout",
     "output_type": "stream",
     "text": [
      "Rows:19053\n",
      "Cols:23\n",
      "\n",
      "\n"
     ]
    },
    {
     "data": {
      "text/html": [
       "<table>\n",
       "<thead>\n",
       "<tr><th>       </th><th>sku              </th><th>national_inv     </th><th>lead_time         </th><th>in_transit_qty    </th><th>forecast_3_month  </th><th>forecast_6_month  </th><th>forecast_9_month  </th><th>sales_1_month     </th><th>sales_3_month     </th><th>sales_6_month    </th><th>sales_9_month     </th><th>min_bank         </th><th>potential_issue  </th><th>pieces_past_due   </th><th>perf_6_month_avg  </th><th>perf_12_month_avg  </th><th>local_bo_qty      </th><th>deck_risk  </th><th>oe_constraint  </th><th>ppap_risk  </th><th>stop_auto_buy  </th><th>rev_stop  </th><th>went_on_backorder  </th></tr>\n",
       "</thead>\n",
       "<tbody>\n",
       "<tr><td>type   </td><td>int              </td><td>int              </td><td>int               </td><td>int               </td><td>int               </td><td>int               </td><td>int               </td><td>int               </td><td>int               </td><td>int              </td><td>int               </td><td>int              </td><td>enum             </td><td>int               </td><td>real              </td><td>real               </td><td>int               </td><td>enum       </td><td>enum           </td><td>enum       </td><td>enum           </td><td>enum      </td><td>enum               </td></tr>\n",
       "<tr><td>mins   </td><td>1111620.0        </td><td>-1440.0          </td><td>0.0               </td><td>0.0               </td><td>0.0               </td><td>0.0               </td><td>0.0               </td><td>0.0               </td><td>0.0               </td><td>0.0              </td><td>0.0               </td><td>0.0              </td><td>                 </td><td>0.0               </td><td>-99.0             </td><td>-99.0              </td><td>0.0               </td><td>           </td><td>               </td><td>           </td><td>               </td><td>          </td><td>                   </td></tr>\n",
       "<tr><td>mean   </td><td>2059552.760562641</td><td>376.36702881436  </td><td>7.706036161335186 </td><td>48.27234556237865 </td><td>182.91082769117713</td><td>344.7398309977432 </td><td>497.79242114102783</td><td>56.11887891670602 </td><td>168.53445651603428</td><td>333.5321996535978</td><td>504.2553928515193 </td><td>48.84070750013122</td><td>                 </td><td>2.3114995013908572</td><td>-6.519833622001783</td><td>-6.053935338266942 </td><td>0.8917755734005145</td><td>           </td><td>               </td><td>           </td><td>               </td><td>          </td><td>                   </td></tr>\n",
       "<tr><td>maxs   </td><td>3284775.0        </td><td>730722.0         </td><td>52.0              </td><td>170920.0          </td><td>479808.0          </td><td>967776.0          </td><td>1418208.0         </td><td>186451.0          </td><td>550609.0          </td><td>1136154.0        </td><td>1759152.0         </td><td>85584.0          </td><td>                 </td><td>13824.0           </td><td>1.0               </td><td>1.0                </td><td>1440.0            </td><td>           </td><td>               </td><td>           </td><td>               </td><td>          </td><td>                   </td></tr>\n",
       "<tr><td>sigma  </td><td>663337.6456498676</td><td>7002.071628662681</td><td>6.7786650721241895</td><td>1465.9992102068286</td><td>4304.865591970628 </td><td>8406.062155159243 </td><td>12180.570042918358</td><td>1544.2177775482564</td><td>4581.3400802215065</td><td>9294.566153218973</td><td>14184.145395653624</td><td>968.7738680675268</td><td>                 </td><td>110.24106014611986</td><td>25.975138766871876</td><td>25.184497150032538 </td><td>23.03334541733879 </td><td>           </td><td>               </td><td>           </td><td>               </td><td>          </td><td>                   </td></tr>\n",
       "<tr><td>zeros  </td><td>0                </td><td>1858             </td><td>121               </td><td>15432             </td><td>12118             </td><td>11136             </td><td>10604             </td><td>10278             </td><td>8022              </td><td>6864             </td><td>6231              </td><td>9909             </td><td>                 </td><td>18601             </td><td>474               </td><td>401                </td><td>18585             </td><td>           </td><td>               </td><td>           </td><td>               </td><td>          </td><td>                   </td></tr>\n",
       "<tr><td>missing</td><td>0                </td><td>0                </td><td>1078              </td><td>0                 </td><td>0                 </td><td>0                 </td><td>0                 </td><td>0                 </td><td>0                 </td><td>0                </td><td>0                 </td><td>0                </td><td>0                </td><td>0                 </td><td>0                 </td><td>0                  </td><td>0                 </td><td>0          </td><td>0              </td><td>0          </td><td>0              </td><td>0         </td><td>0                  </td></tr>\n",
       "<tr><td>0      </td><td>1113121.0        </td><td>0.0              </td><td>8.0               </td><td>1.0               </td><td>6.0               </td><td>6.0               </td><td>6.0               </td><td>0.0               </td><td>4.0               </td><td>9.0              </td><td>12.0              </td><td>0.0              </td><td>No               </td><td>1.0               </td><td>0.9               </td><td>0.89               </td><td>0.0               </td><td>No         </td><td>No             </td><td>No         </td><td>Yes            </td><td>No        </td><td>Yes                </td></tr>\n",
       "<tr><td>1      </td><td>1113268.0        </td><td>0.0              </td><td>8.0               </td><td>0.0               </td><td>2.0               </td><td>3.0               </td><td>4.0               </td><td>1.0               </td><td>2.0               </td><td>3.0              </td><td>3.0               </td><td>0.0              </td><td>No               </td><td>0.0               </td><td>0.96              </td><td>0.97               </td><td>0.0               </td><td>No         </td><td>No             </td><td>No         </td><td>Yes            </td><td>No        </td><td>Yes                </td></tr>\n",
       "<tr><td>2      </td><td>1113874.0        </td><td>20.0             </td><td>2.0               </td><td>0.0               </td><td>45.0              </td><td>99.0              </td><td>153.0             </td><td>16.0              </td><td>42.0              </td><td>80.0             </td><td>111.0             </td><td>10.0             </td><td>No               </td><td>0.0               </td><td>0.81              </td><td>0.88               </td><td>0.0               </td><td>No         </td><td>No             </td><td>No         </td><td>Yes            </td><td>No        </td><td>Yes                </td></tr>\n",
       "<tr><td>3      </td><td>1114222.0        </td><td>0.0              </td><td>8.0               </td><td>0.0               </td><td>9.0               </td><td>14.0              </td><td>21.0              </td><td>5.0               </td><td>17.0              </td><td>36.0             </td><td>43.0              </td><td>0.0              </td><td>No               </td><td>0.0               </td><td>0.96              </td><td>0.98               </td><td>0.0               </td><td>No         </td><td>No             </td><td>No         </td><td>Yes            </td><td>No        </td><td>Yes                </td></tr>\n",
       "<tr><td>4      </td><td>1114823.0        </td><td>0.0              </td><td>12.0              </td><td>0.0               </td><td>31.0              </td><td>31.0              </td><td>31.0              </td><td>7.0               </td><td>15.0              </td><td>33.0             </td><td>47.0              </td><td>2.0              </td><td>No               </td><td>3.0               </td><td>0.98              </td><td>0.98               </td><td>0.0               </td><td>No         </td><td>No             </td><td>No         </td><td>Yes            </td><td>No        </td><td>Yes                </td></tr>\n",
       "<tr><td>5      </td><td>1115453.0        </td><td>55.0             </td><td>8.0               </td><td>0.0               </td><td>216.0             </td><td>360.0             </td><td>492.0             </td><td>30.0              </td><td>108.0             </td><td>275.0            </td><td>340.0             </td><td>51.0             </td><td>No               </td><td>0.0               </td><td>0.0               </td><td>0.0                </td><td>0.0               </td><td>No         </td><td>No             </td><td>Yes        </td><td>Yes            </td><td>No        </td><td>Yes                </td></tr>\n",
       "<tr><td>6      </td><td>1115620.0        </td><td>-34.0            </td><td>8.0               </td><td>0.0               </td><td>120.0             </td><td>240.0             </td><td>240.0             </td><td>83.0              </td><td>122.0             </td><td>144.0            </td><td>165.0             </td><td>33.0             </td><td>No               </td><td>0.0               </td><td>1.0               </td><td>0.97               </td><td>34.0              </td><td>No         </td><td>No             </td><td>No         </td><td>Yes            </td><td>No        </td><td>Yes                </td></tr>\n",
       "<tr><td>7      </td><td>1116446.0        </td><td>4.0              </td><td>9.0               </td><td>0.0               </td><td>43.0              </td><td>67.0              </td><td>115.0             </td><td>5.0               </td><td>22.0              </td><td>40.0             </td><td>58.0              </td><td>4.0              </td><td>No               </td><td>0.0               </td><td>0.69              </td><td>0.68               </td><td>0.0               </td><td>No         </td><td>No             </td><td>No         </td><td>Yes            </td><td>No        </td><td>Yes                </td></tr>\n",
       "<tr><td>8      </td><td>1116834.0        </td><td>2.0              </td><td>8.0               </td><td>0.0               </td><td>4.0               </td><td>6.0               </td><td>9.0               </td><td>1.0               </td><td>5.0               </td><td>6.0              </td><td>9.0               </td><td>2.0              </td><td>No               </td><td>0.0               </td><td>1.0               </td><td>0.95               </td><td>0.0               </td><td>No         </td><td>No             </td><td>No         </td><td>Yes            </td><td>No        </td><td>Yes                </td></tr>\n",
       "<tr><td>9      </td><td>1116868.0        </td><td>-7.0             </td><td>8.0               </td><td>0.0               </td><td>56.0              </td><td>96.0              </td><td>112.0             </td><td>13.0              </td><td>30.0              </td><td>56.0             </td><td>76.0              </td><td>0.0              </td><td>No               </td><td>0.0               </td><td>0.97              </td><td>0.92               </td><td>7.0               </td><td>No         </td><td>No             </td><td>No         </td><td>Yes            </td><td>No        </td><td>Yes                </td></tr>\n",
       "</tbody>\n",
       "</table>"
      ]
     },
     "metadata": {},
     "output_type": "display_data"
    }
   ],
   "source": [
    "df.describe()"
   ]
  },
  {
   "cell_type": "markdown",
   "metadata": {},
   "source": [
    "We will notice that the response column, `\"went_on_backorder\"`, is already encoded as \"enum\", so there's nothing we need to do here.  If it were encoded as a 0/1 \"int\", then we'd have to convert the column as follows:  `df[y] = df[y].asfactor()`\n",
    "\n",
    "\n",
    "Next, let's identify the response & predictor columns by saving them as `x` and `y`.  The `\"sku\"` column is a unique identifier so we'll want to remove that from the set of our predictors."
   ]
  },
  {
   "cell_type": "code",
   "execution_count": 4,
   "metadata": {},
   "outputs": [],
   "source": [
    "y = \"went_on_backorder\"\n",
    "x = df.columns\n",
    "x.remove(y)\n",
    "x.remove(\"sku\")"
   ]
  },
  {
   "cell_type": "markdown",
   "metadata": {},
   "source": [
    "## Run AutoML \n",
    "\n",
    "Run AutoML, stopping after 10 models.  The `max_models` argument specifies the number of individual (or \"base\") models, and does not include the two ensemble models that are trained at the end."
   ]
  },
  {
   "cell_type": "code",
   "execution_count": 5,
   "metadata": {},
   "outputs": [
    {
     "name": "stdout",
     "output_type": "stream",
     "text": [
      "AutoML progress: |████████████████████████████████████████████████████████| 100%\n"
     ]
    }
   ],
   "source": [
    "aml = H2OAutoML(max_models = 10, seed = 1)\n",
    "aml.train(x = x, y = y, training_frame = df)"
   ]
  },
  {
   "cell_type": "markdown",
   "metadata": {},
   "source": [
    "*Note: If you see the following error, it means that you need to install the pandas module.*\n",
    "```\n",
    "H2OTypeError: Argument `python_obj` should be a None | list | tuple | dict | numpy.ndarray | pandas.DataFrame | scipy.sparse.issparse, got H2OTwoDimTable \n",
    "``` "
   ]
  },
  {
   "cell_type": "markdown",
   "metadata": {},
   "source": [
    "## Leaderboard\n",
    "\n",
    "Next, we will view the AutoML Leaderboard.  Since we did not specify a `leaderboard_frame` in the `H2OAutoML.train()` method for scoring and ranking the models, the AutoML leaderboard uses cross-validation metrics to rank the models.  \n",
    "\n",
    "A default performance metric for each machine learning task (binary classification, multiclass classification, regression) is specified internally and the leaderboard will be sorted by that metric.  In the case of binary classification, the default ranking metric is Area Under the ROC Curve (AUC).  In the future, the user will be able to specify any of the H2O metrics so that different metrics can be used to generate rankings on the leaderboard.\n",
    "\n",
    "The leader model is stored at `aml.leader` and the leaderboard is stored at `aml.leaderboard`."
   ]
  },
  {
   "cell_type": "code",
   "execution_count": 6,
   "metadata": {},
   "outputs": [],
   "source": [
    "lb = aml.leaderboard"
   ]
  },
  {
   "cell_type": "markdown",
   "metadata": {},
   "source": [
    "Now we will view a snapshot of the top models.  Here we should see the two Stacked Ensembles at or near the top of the leaderboard.  Stacked Ensembles can almost always outperform a single model."
   ]
  },
  {
   "cell_type": "code",
   "execution_count": 7,
   "metadata": {},
   "outputs": [
    {
     "data": {
      "text/html": [
       "<table>\n",
       "<thead>\n",
       "<tr><th>model_id                                           </th><th style=\"text-align: right;\">     auc</th><th style=\"text-align: right;\">  logloss</th><th style=\"text-align: right;\">   aucpr</th><th style=\"text-align: right;\">  mean_per_class_error</th><th style=\"text-align: right;\">    rmse</th><th style=\"text-align: right;\">      mse</th></tr>\n",
       "</thead>\n",
       "<tbody>\n",
       "<tr><td>StackedEnsemble_AllModels_AutoML_20210716_211232   </td><td style=\"text-align: right;\">0.950915</td><td style=\"text-align: right;\"> 0.182191</td><td style=\"text-align: right;\">0.749364</td><td style=\"text-align: right;\">              0.139769</td><td style=\"text-align: right;\">0.227678</td><td style=\"text-align: right;\">0.0518372</td></tr>\n",
       "<tr><td>StackedEnsemble_BestOfFamily_AutoML_20210716_211232</td><td style=\"text-align: right;\">0.949776</td><td style=\"text-align: right;\"> 0.182822</td><td style=\"text-align: right;\">0.747017</td><td style=\"text-align: right;\">              0.145627</td><td style=\"text-align: right;\">0.227993</td><td style=\"text-align: right;\">0.0519806</td></tr>\n",
       "<tr><td>GBM_4_AutoML_20210716_211232                       </td><td style=\"text-align: right;\">0.948844</td><td style=\"text-align: right;\"> 0.173579</td><td style=\"text-align: right;\">0.739163</td><td style=\"text-align: right;\">              0.157246</td><td style=\"text-align: right;\">0.22659 </td><td style=\"text-align: right;\">0.051343 </td></tr>\n",
       "<tr><td>GBM_3_AutoML_20210716_211232                       </td><td style=\"text-align: right;\">0.946825</td><td style=\"text-align: right;\"> 0.177091</td><td style=\"text-align: right;\">0.733092</td><td style=\"text-align: right;\">              0.147716</td><td style=\"text-align: right;\">0.22862 </td><td style=\"text-align: right;\">0.0522671</td></tr>\n",
       "<tr><td>XGBoost_3_AutoML_20210716_211232                   </td><td style=\"text-align: right;\">0.946115</td><td style=\"text-align: right;\"> 0.176191</td><td style=\"text-align: right;\">0.739428</td><td style=\"text-align: right;\">              0.144012</td><td style=\"text-align: right;\">0.227853</td><td style=\"text-align: right;\">0.051917 </td></tr>\n",
       "<tr><td>GBM_2_AutoML_20210716_211232                       </td><td style=\"text-align: right;\">0.945111</td><td style=\"text-align: right;\"> 0.179764</td><td style=\"text-align: right;\">0.727168</td><td style=\"text-align: right;\">              0.166382</td><td style=\"text-align: right;\">0.230232</td><td style=\"text-align: right;\">0.0530067</td></tr>\n",
       "<tr><td>GBM_5_AutoML_20210716_211232                       </td><td style=\"text-align: right;\">0.945026</td><td style=\"text-align: right;\"> 0.17789 </td><td style=\"text-align: right;\">0.731021</td><td style=\"text-align: right;\">              0.14231 </td><td style=\"text-align: right;\">0.229819</td><td style=\"text-align: right;\">0.0528166</td></tr>\n",
       "<tr><td>XGBoost_1_AutoML_20210716_211232                   </td><td style=\"text-align: right;\">0.944766</td><td style=\"text-align: right;\"> 0.181319</td><td style=\"text-align: right;\">0.723198</td><td style=\"text-align: right;\">              0.156016</td><td style=\"text-align: right;\">0.23057 </td><td style=\"text-align: right;\">0.0531626</td></tr>\n",
       "<tr><td>XGBoost_2_AutoML_20210716_211232                   </td><td style=\"text-align: right;\">0.943283</td><td style=\"text-align: right;\"> 0.182336</td><td style=\"text-align: right;\">0.719579</td><td style=\"text-align: right;\">              0.164759</td><td style=\"text-align: right;\">0.2317  </td><td style=\"text-align: right;\">0.053685 </td></tr>\n",
       "<tr><td>GBM_1_AutoML_20210716_211232                       </td><td style=\"text-align: right;\">0.942464</td><td style=\"text-align: right;\"> 0.183815</td><td style=\"text-align: right;\">0.720289</td><td style=\"text-align: right;\">              0.15893 </td><td style=\"text-align: right;\">0.232004</td><td style=\"text-align: right;\">0.0538257</td></tr>\n",
       "</tbody>\n",
       "</table>"
      ]
     },
     "metadata": {},
     "output_type": "display_data"
    },
    {
     "data": {
      "text/plain": []
     },
     "execution_count": 7,
     "metadata": {},
     "output_type": "execute_result"
    }
   ],
   "source": [
    "lb.head()"
   ]
  },
  {
   "cell_type": "markdown",
   "metadata": {},
   "source": [
    "To view the entire leaderboard, specify the `rows` argument of the `head()` method as the total number of rows:"
   ]
  },
  {
   "cell_type": "code",
   "execution_count": 8,
   "metadata": {},
   "outputs": [
    {
     "data": {
      "text/html": [
       "<table>\n",
       "<thead>\n",
       "<tr><th>model_id                                           </th><th style=\"text-align: right;\">     auc</th><th style=\"text-align: right;\">  logloss</th><th style=\"text-align: right;\">   aucpr</th><th style=\"text-align: right;\">  mean_per_class_error</th><th style=\"text-align: right;\">    rmse</th><th style=\"text-align: right;\">      mse</th></tr>\n",
       "</thead>\n",
       "<tbody>\n",
       "<tr><td>StackedEnsemble_AllModels_AutoML_20210716_211232   </td><td style=\"text-align: right;\">0.950915</td><td style=\"text-align: right;\"> 0.182191</td><td style=\"text-align: right;\">0.749364</td><td style=\"text-align: right;\">              0.139769</td><td style=\"text-align: right;\">0.227678</td><td style=\"text-align: right;\">0.0518372</td></tr>\n",
       "<tr><td>StackedEnsemble_BestOfFamily_AutoML_20210716_211232</td><td style=\"text-align: right;\">0.949776</td><td style=\"text-align: right;\"> 0.182822</td><td style=\"text-align: right;\">0.747017</td><td style=\"text-align: right;\">              0.145627</td><td style=\"text-align: right;\">0.227993</td><td style=\"text-align: right;\">0.0519806</td></tr>\n",
       "<tr><td>GBM_4_AutoML_20210716_211232                       </td><td style=\"text-align: right;\">0.948844</td><td style=\"text-align: right;\"> 0.173579</td><td style=\"text-align: right;\">0.739163</td><td style=\"text-align: right;\">              0.157246</td><td style=\"text-align: right;\">0.22659 </td><td style=\"text-align: right;\">0.051343 </td></tr>\n",
       "<tr><td>GBM_3_AutoML_20210716_211232                       </td><td style=\"text-align: right;\">0.946825</td><td style=\"text-align: right;\"> 0.177091</td><td style=\"text-align: right;\">0.733092</td><td style=\"text-align: right;\">              0.147716</td><td style=\"text-align: right;\">0.22862 </td><td style=\"text-align: right;\">0.0522671</td></tr>\n",
       "<tr><td>XGBoost_3_AutoML_20210716_211232                   </td><td style=\"text-align: right;\">0.946115</td><td style=\"text-align: right;\"> 0.176191</td><td style=\"text-align: right;\">0.739428</td><td style=\"text-align: right;\">              0.144012</td><td style=\"text-align: right;\">0.227853</td><td style=\"text-align: right;\">0.051917 </td></tr>\n",
       "<tr><td>GBM_2_AutoML_20210716_211232                       </td><td style=\"text-align: right;\">0.945111</td><td style=\"text-align: right;\"> 0.179764</td><td style=\"text-align: right;\">0.727168</td><td style=\"text-align: right;\">              0.166382</td><td style=\"text-align: right;\">0.230232</td><td style=\"text-align: right;\">0.0530067</td></tr>\n",
       "<tr><td>GBM_5_AutoML_20210716_211232                       </td><td style=\"text-align: right;\">0.945026</td><td style=\"text-align: right;\"> 0.17789 </td><td style=\"text-align: right;\">0.731021</td><td style=\"text-align: right;\">              0.14231 </td><td style=\"text-align: right;\">0.229819</td><td style=\"text-align: right;\">0.0528166</td></tr>\n",
       "<tr><td>XGBoost_1_AutoML_20210716_211232                   </td><td style=\"text-align: right;\">0.944766</td><td style=\"text-align: right;\"> 0.181319</td><td style=\"text-align: right;\">0.723198</td><td style=\"text-align: right;\">              0.156016</td><td style=\"text-align: right;\">0.23057 </td><td style=\"text-align: right;\">0.0531626</td></tr>\n",
       "<tr><td>XGBoost_2_AutoML_20210716_211232                   </td><td style=\"text-align: right;\">0.943283</td><td style=\"text-align: right;\"> 0.182336</td><td style=\"text-align: right;\">0.719579</td><td style=\"text-align: right;\">              0.164759</td><td style=\"text-align: right;\">0.2317  </td><td style=\"text-align: right;\">0.053685 </td></tr>\n",
       "<tr><td>GBM_1_AutoML_20210716_211232                       </td><td style=\"text-align: right;\">0.942464</td><td style=\"text-align: right;\"> 0.183815</td><td style=\"text-align: right;\">0.720289</td><td style=\"text-align: right;\">              0.15893 </td><td style=\"text-align: right;\">0.232004</td><td style=\"text-align: right;\">0.0538257</td></tr>\n",
       "<tr><td>DRF_1_AutoML_20210716_211232                       </td><td style=\"text-align: right;\">0.935803</td><td style=\"text-align: right;\"> 0.222161</td><td style=\"text-align: right;\">0.692536</td><td style=\"text-align: right;\">              0.171452</td><td style=\"text-align: right;\">0.254289</td><td style=\"text-align: right;\">0.064663 </td></tr>\n",
       "<tr><td>GLM_1_AutoML_20210716_211232                       </td><td style=\"text-align: right;\">0.742045</td><td style=\"text-align: right;\"> 0.338682</td><td style=\"text-align: right;\">0.266503</td><td style=\"text-align: right;\">              0.299448</td><td style=\"text-align: right;\">0.31439 </td><td style=\"text-align: right;\">0.0988413</td></tr>\n",
       "</tbody>\n",
       "</table>"
      ]
     },
     "metadata": {},
     "output_type": "display_data"
    },
    {
     "data": {
      "text/plain": []
     },
     "execution_count": 8,
     "metadata": {},
     "output_type": "execute_result"
    }
   ],
   "source": [
    "lb.head(rows=lb.nrows)"
   ]
  },
  {
   "cell_type": "markdown",
   "metadata": {},
   "source": [
    "## Ensemble Exploration\n",
    "\n",
    "To understand how the ensemble works, let's take a peek inside the Stacked Ensemble \"All Models\" model.  The \"All Models\" ensemble is an ensemble of all of the individual models in the AutoML run.  This is often the top performing model on the leaderboard."
   ]
  },
  {
   "cell_type": "code",
   "execution_count": 10,
   "metadata": {},
   "outputs": [],
   "source": [
    "# Get model ids for all models in the AutoML Leaderboard\n",
    "model_ids = list(aml.leaderboard['model_id'].as_data_frame().iloc[:,0])\n",
    "# Get the \"All Models\" Stacked Ensemble model\n",
    "se = h2o.get_model([mid for mid in model_ids if \"StackedEnsemble_AllModels\" in mid][0])\n",
    "# Get the Stacked Ensemble metalearner model\n",
    "metalearner = h2o.get_model(se.metalearner()['name'])"
   ]
  },
  {
   "cell_type": "markdown",
   "metadata": {},
   "source": [
    "Examine the variable importance of the metalearner (combiner) algorithm in the ensemble.  This shows us how much each base learner is contributing to the ensemble. The AutoML Stacked Ensembles use the default metalearner algorithm (GLM with non-negative weights), so the variable importance of the metalearner is actually the standardized coefficient magnitudes of the GLM. "
   ]
  },
  {
   "cell_type": "code",
   "execution_count": 11,
   "metadata": {},
   "outputs": [
    {
     "data": {
      "text/plain": [
       "{'Intercept': -2.932913397478939,\n",
       " 'GBM_4_AutoML_20210716_211232': 0.26788183155496637,\n",
       " 'GBM_3_AutoML_20210716_211232': 0.0,\n",
       " 'XGBoost_3_AutoML_20210716_211232': 0.3612265614651166,\n",
       " 'GBM_2_AutoML_20210716_211232': 0.0,\n",
       " 'GBM_5_AutoML_20210716_211232': 0.18040647745245522,\n",
       " 'XGBoost_1_AutoML_20210716_211232': 0.26356805242073567,\n",
       " 'XGBoost_2_AutoML_20210716_211232': 0.10180224917919932,\n",
       " 'GBM_1_AutoML_20210716_211232': 0.09576789133962009,\n",
       " 'DRF_1_AutoML_20210716_211232': 0.5112280478194527,\n",
       " 'GLM_1_AutoML_20210716_211232': 0.05937701410420001}"
      ]
     },
     "execution_count": 11,
     "metadata": {},
     "output_type": "execute_result"
    }
   ],
   "source": [
    "metalearner.coef_norm()"
   ]
  },
  {
   "cell_type": "markdown",
   "metadata": {},
   "source": [
    "We can also plot the base learner contributions to the ensemble."
   ]
  },
  {
   "cell_type": "code",
   "execution_count": 12,
   "metadata": {},
   "outputs": [
    {
     "data": {
      "image/png": "[encoded data removed]",
      "text/plain": [
       "<Figure size 1008x720 with 1 Axes>"
      ]
     },
     "metadata": {
      "needs_background": "light"
     },
     "output_type": "display_data"
    }
   ],
   "source": [
    "%matplotlib inline\n",
    "metalearner.std_coef_plot()"
   ]
  },
  {
   "cell_type": "markdown",
   "metadata": {},
   "source": [
    "## Save Leader Model\n",
    "\n",
    "There are two ways to save the leader model -- binary format and MOJO format.  If you're taking your leader model to production, then we'd suggest the MOJO format since it's optimized for production use."
   ]
  },
  {
   "cell_type": "code",
   "execution_count": 14,
   "metadata": {},
   "outputs": [
    {
     "data": {
      "text/plain": [
       "u'/Users/me/h2oai/code/h2o-tutorials/h2o-world-2017/automl/Python/product_backorders_model_bin/StackedEnsemble_AllModels_AutoML_20190204_092807'"
      ]
     },
     "execution_count": 14,
     "metadata": {},
     "output_type": "execute_result"
    }
   ],
   "source": [
    "h2o.save_model(aml.leader, path = \"./product_backorders_model_bin\")"
   ]
  },
  {
   "cell_type": "code",
   "execution_count": 15,
   "metadata": {},
   "outputs": [
    {
     "data": {
      "text/plain": [
       "'/Users/me/h2oai/code/h2o-tutorials/h2o-world-2017/automl/Python/StackedEnsemble_AllModels_AutoML_20190204_092807.zip'"
      ]
     },
     "execution_count": 15,
     "metadata": {},
     "output_type": "execute_result"
    }
   ],
   "source": [
    "aml.leader.download_mojo(path = \"./\")"
   ]
  },
  {
   "cell_type": "code",
   "execution_count": null,
   "metadata": {},
   "outputs": [],
   "source": []
  }
 ],
 "metadata": {
  "kernelspec": {
   "display_name": "Python 3",
   "language": "python",
   "name": "python3"
  },
  "language_info": {
   "codemirror_mode": {
    "name": "ipython",
    "version": 3
   },
   "file_extension": ".py",
   "mimetype": "text/x-python",
   "name": "python",
   "nbconvert_exporter": "python",
   "pygments_lexer": "ipython3",
   "version": "3.7.0"
  }
 },
 "nbformat": 4,
 "nbformat_minor": 2
}
